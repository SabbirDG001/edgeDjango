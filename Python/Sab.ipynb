{
 "cells": [
  {
   "cell_type": "code",
   "execution_count": 1,
   "id": "initial_id",
   "metadata": {
    "ExecuteTime": {
     "end_time": "2024-12-16T05:58:34.344565Z",
     "start_time": "2024-12-16T05:58:34.330854Z"
    }
   },
   "outputs": [
    {
     "name": "stdout",
     "output_type": "stream",
     "text": [
      "a = <class 'str'> = 42\n"
     ]
    }
   ],
   "source": [
    "import sys\n",
    "x = chr(97)\n",
    "print(x,'=',type(x),'=',sys.getsizeof(x))"
   ]
  },
  {
   "cell_type": "code",
   "execution_count": 3,
   "id": "d0b244274161fec7",
   "metadata": {},
   "outputs": [
    {
     "name": "stdout",
     "output_type": "stream",
     "text": [
      "b'97' = <class 'bytes'> = 35\n",
      "97 = <class 'str'> = 43\n"
     ]
    }
   ],
   "source": [
    "import sys\n",
    "x = b'97'\n",
    "y = x.decode()\n",
    "print(x,'=',type(x),'=',sys.getsizeof(x))\n",
    "print(y,'=',type(y),'=',sys.getsizeof(y))"
   ]
  },
  {
   "cell_type": "code",
   "execution_count": 4,
   "id": "e00a7437-da78-447a-8620-81df48a103f6",
   "metadata": {},
   "outputs": [
    {
     "name": "stdout",
     "output_type": "stream",
     "text": [
      "b'\\xc3\\xa9clair'\n",
      "éclair\n"
     ]
    }
   ],
   "source": [
    "data = b\"\\xc3\\xa9clair\"\n",
    "print(str(data))\n",
    "text = data.decode(encoding=\"utf-8\")\n",
    "print(text)"
   ]
  },
  {
   "cell_type": "code",
   "execution_count": 7,
   "id": "d1eccf28-0d40-4081-b65f-bcb5c17b1c6b",
   "metadata": {
    "ExecuteTime": {
     "end_time": "2024-12-16T06:31:05.458468Z",
     "start_time": "2024-12-16T06:31:05.452616Z"
    }
   },
   "outputs": [
    {
     "name": "stdout",
     "output_type": "stream",
     "text": [
      "28\n",
      "<class 'list'>\n"
     ]
    }
   ],
   "source": [
    "import sys\n",
    "li = [68,97,116,97,97,67,97,109,112]\n",
    "data = bytes(li)\n",
    "print(sys.getsizeof(data[len(data)-1]))\n",
    "print(type(li))"
   ]
  },
  {
   "cell_type": "code",
   "execution_count": 8,
   "id": "732b802bcd211b5d",
   "metadata": {
    "ExecuteTime": {
     "end_time": "2024-12-16T06:31:26.445522Z",
     "start_time": "2024-12-16T06:31:26.433273Z"
    }
   },
   "outputs": [
    {
     "name": "stdout",
     "output_type": "stream",
     "text": [
      "252\n"
     ]
    }
   ],
   "source": [
    "a = 28 * 9\n",
    "print(a)"
   ]
  },
  {
   "cell_type": "code",
   "execution_count": 2,
   "id": "c75705ffc03f89b",
   "metadata": {},
   "outputs": [
    {
     "name": "stdout",
     "output_type": "stream",
     "text": [
      "fantastico Local\n",
      "fantastico Global\n"
     ]
    }
   ],
   "source": [
    "x = \"awsome\"\n",
    "\n",
    "def func():\n",
    "    global x\n",
    "    x = \"fantastico\"\n",
    "    print(x + \" Local\")\n",
    "\n",
    "func()\n",
    "\n",
    "print(x + \" Global\")"
   ]
  },
  {
   "cell_type": "code",
   "execution_count": 12,
   "id": "b8656a70",
   "metadata": {},
   "outputs": [
    {
     "name": "stdout",
     "output_type": "stream",
     "text": [
      "awsome Local\n",
      "awsome Global\n"
     ]
    }
   ],
   "source": [
    "x = \"awsome\"\n",
    "\n",
    "def func():\n",
    "    print(x + \" Local\")\n",
    "\n",
    "func()\n",
    "print(x + \" Global\")"
   ]
  },
  {
   "cell_type": "code",
   "execution_count": 13,
   "id": "86ead87f",
   "metadata": {},
   "outputs": [
    {
     "name": "stdout",
     "output_type": "stream",
     "text": [
      "23\n"
     ]
    }
   ],
   "source": [
    "x = 127 % 26\n",
    "print(x)"
   ]
  }
 ],
 "metadata": {
  "kernelspec": {
   "display_name": "Python 3",
   "language": "python",
   "name": "python3"
  },
  "language_info": {
   "codemirror_mode": {
    "name": "ipython",
    "version": 3
   },
   "file_extension": ".py",
   "mimetype": "text/x-python",
   "name": "python",
   "nbconvert_exporter": "python",
   "pygments_lexer": "ipython3",
   "version": "3.13.0"
  }
 },
 "nbformat": 4,
 "nbformat_minor": 5
}
